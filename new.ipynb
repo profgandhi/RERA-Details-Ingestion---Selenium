{
 "cells": [
  {
   "cell_type": "code",
   "execution_count": 29,
   "metadata": {},
   "outputs": [],
   "source": [
    "from selenium import webdriver\n",
    "from selenium.webdriver.chrome.options import Options\n",
    "from selenium.webdriver.common.by import By\n",
    "import time\n",
    "import pandas as pd\n",
    "import asyncio\n",
    "from abc import ABC,abstractmethod"
   ]
  },
  {
   "cell_type": "code",
   "execution_count": 26,
   "metadata": {},
   "outputs": [],
   "source": [
    "class BOT(ABC):\n",
    "    '''\n",
    "    Abstract method for selenium bot\n",
    "    '''\n",
    "    @abstractmethod\n",
    "    def target_html() -> str:\n",
    "        pass\n",
    "\n",
    "\n",
    "class RERABot(BOT):\n",
    "    '''\n",
    "    Clicks on ith registered Property and returns HTML\n",
    "    '''\n",
    "    def __init__(self):\n",
    "        self.url = 'https://hprera.nic.in/PublicDashboard'\n",
    "    async def target_html(self,i):\n",
    "        print('Start')\n",
    "        options = Options()\n",
    "        options.add_argument('--headless=new')\n",
    "        browser = webdriver.Chrome(options=options)\n",
    "        browser.get(self.url)\n",
    "        time.sleep(20)\n",
    "        search = browser.find_elements(By.XPATH, \"//a[@title='View Application']\")\n",
    "\n",
    "        Property = search[i]\n",
    "        Property.click()\n",
    "        time.sleep(6)\n",
    "        html = browser.page_source\n",
    "        browser.quit()\n",
    "\n",
    "        return html"
   ]
  },
  {
   "cell_type": "code",
   "execution_count": 27,
   "metadata": {},
   "outputs": [],
   "source": [
    "def parse_table(html):\n",
    "    html_table = pd.read_html(html, index_col=0)[4]\n",
    "    name = html_table.loc['Name'][1]\n",
    "    address = html_table.loc['Permanent Address'][1].replace('Address Proof',\"\")\n",
    "    pan = html_table.loc['PAN No.'][1].split(\" \")[0]\n",
    "    gstin = html_table.loc['GSTIN No.'][1].replace(\"GST Certificate\",\"\")\n",
    "\n",
    "    return {\n",
    "        'Name' : name,\n",
    "        'Permanent Address' : address,\n",
    "        'PAN No.' : pan,\n",
    "        'GSTIN No.' : gstin\n",
    "    }\n",
    "    "
   ]
  },
  {
   "cell_type": "code",
   "execution_count": 10,
   "metadata": {},
   "outputs": [],
   "source": [
    "results = await asyncio.gather(*[RERABot().target_html(i) for i in range(5)])"
   ]
  },
  {
   "cell_type": "code",
   "execution_count": 25,
   "metadata": {},
   "outputs": [],
   "source": [
    "rows = [parse_table(i) for i in results ]\n",
    "result = pd.DataFrame(rows)"
   ]
  },
  {
   "cell_type": "code",
   "execution_count": 30,
   "metadata": {},
   "outputs": [
    {
     "data": {
      "text/html": [
       "<div>\n",
       "<style scoped>\n",
       "    .dataframe tbody tr th:only-of-type {\n",
       "        vertical-align: middle;\n",
       "    }\n",
       "\n",
       "    .dataframe tbody tr th {\n",
       "        vertical-align: top;\n",
       "    }\n",
       "\n",
       "    .dataframe thead th {\n",
       "        text-align: right;\n",
       "    }\n",
       "</style>\n",
       "<table border=\"1\" class=\"dataframe\">\n",
       "  <thead>\n",
       "    <tr style=\"text-align: right;\">\n",
       "      <th></th>\n",
       "      <th>Name</th>\n",
       "      <th>Permanent Address</th>\n",
       "      <th>PAN No.</th>\n",
       "      <th>GSTIN No.</th>\n",
       "    </tr>\n",
       "  </thead>\n",
       "  <tbody>\n",
       "    <tr>\n",
       "      <th>0</th>\n",
       "      <td>MANAVINDER SINGH</td>\n",
       "      <td>Villette Kothi, Khalini, Shimla, Khalini, Shim...</td>\n",
       "      <td>ACLPS2284H</td>\n",
       "      <td>-NA-</td>\n",
       "    </tr>\n",
       "    <tr>\n",
       "      <th>1</th>\n",
       "      <td>M/S SOMA NEW TOWNS PVT.LTD.</td>\n",
       "      <td>B-4/45, Safdarjung Enclave, New Delhi, Delhi (...</td>\n",
       "      <td>AALCS4814Q</td>\n",
       "      <td>GSTIN0123456789</td>\n",
       "    </tr>\n",
       "    <tr>\n",
       "      <th>2</th>\n",
       "      <td>MANAVINDER SINGH</td>\n",
       "      <td>Villette Kothi, Khalini, Shimla, Khalini, Shim...</td>\n",
       "      <td>ACLPS2284H</td>\n",
       "      <td>-NA-</td>\n",
       "    </tr>\n",
       "    <tr>\n",
       "      <th>3</th>\n",
       "      <td>M/S. MAGIC RESORTS PVT. LTD.</td>\n",
       "      <td>W-5/19, Western Avenue, Sainik Farms, New Delh...</td>\n",
       "      <td>AAHCM9235H</td>\n",
       "      <td>GSTIN0123456789</td>\n",
       "    </tr>\n",
       "    <tr>\n",
       "      <th>4</th>\n",
       "      <td>MS URBAN GREENS</td>\n",
       "      <td>C/o Solutions, Near Grand Plaza Shopping Compl...</td>\n",
       "      <td>AAGFU9110M</td>\n",
       "      <td>00AAAAA0000AAAA</td>\n",
       "    </tr>\n",
       "  </tbody>\n",
       "</table>\n",
       "</div>"
      ],
      "text/plain": [
       "                           Name  \\\n",
       "0              MANAVINDER SINGH   \n",
       "1   M/S SOMA NEW TOWNS PVT.LTD.   \n",
       "2              MANAVINDER SINGH   \n",
       "3  M/S. MAGIC RESORTS PVT. LTD.   \n",
       "4               MS URBAN GREENS   \n",
       "\n",
       "                                   Permanent Address     PAN No.  \\\n",
       "0  Villette Kothi, Khalini, Shimla, Khalini, Shim...  ACLPS2284H   \n",
       "1  B-4/45, Safdarjung Enclave, New Delhi, Delhi (...  AALCS4814Q   \n",
       "2  Villette Kothi, Khalini, Shimla, Khalini, Shim...  ACLPS2284H   \n",
       "3  W-5/19, Western Avenue, Sainik Farms, New Delh...  AAHCM9235H   \n",
       "4  C/o Solutions, Near Grand Plaza Shopping Compl...  AAGFU9110M   \n",
       "\n",
       "           GSTIN No.  \n",
       "0               -NA-  \n",
       "1  GSTIN0123456789    \n",
       "2               -NA-  \n",
       "3  GSTIN0123456789    \n",
       "4  00AAAAA0000AAAA    "
      ]
     },
     "execution_count": 30,
     "metadata": {},
     "output_type": "execute_result"
    }
   ],
   "source": [
    "result"
   ]
  },
  {
   "cell_type": "code",
   "execution_count": null,
   "metadata": {},
   "outputs": [],
   "source": []
  }
 ],
 "metadata": {
  "kernelspec": {
   "display_name": "Python 3",
   "language": "python",
   "name": "python3"
  },
  "language_info": {
   "codemirror_mode": {
    "name": "ipython",
    "version": 3
   },
   "file_extension": ".py",
   "mimetype": "text/x-python",
   "name": "python",
   "nbconvert_exporter": "python",
   "pygments_lexer": "ipython3",
   "version": "3.10.7"
  }
 },
 "nbformat": 4,
 "nbformat_minor": 2
}
